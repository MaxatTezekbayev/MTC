{
 "cells": [
  {
   "cell_type": "code",
   "execution_count": 1,
   "metadata": {},
   "outputs": [
    {
     "name": "stdout",
     "output_type": "stream",
     "text": [
      "hello\n"
     ]
    }
   ],
   "source": [
    "#train CAE+H (1001 MB)\n",
    "CUDA_VISIBLE_DEVICES=1 python main.py --train_CAEH True --epochs 50 --lambd 1e-05 --gamma 1e-07 --numlayers 2 --code_size 196  --code_size2 60   --save_dir_for_CAE saved_weights/196_60_1e-05_1e-07.pth \n",
    "\n",
    "\n",
    "\n",
    "#\n",
    "CUDA_VISIBLE_DEVICES=1 python main.py --train_CAEH False --MTC True  --lambd 1e-05 --gamma 1e-07 --numlayers 2 --code_size 196  --code_size2 60   --pretrained_CAEH saved_weights/196_60_1e-05_1e-07.pth"
   ]
  },
  {
   "cell_type": "code",
   "execution_count": 15,
   "metadata": {},
   "outputs": [
    {
     "name": "stdout",
     "output_type": "stream",
     "text": [
      "CUDA_VISIBLE_DEVICES=5 python main.py --train_CAEH True   --epochs 60 --lambd 1e-07 --gamma 1e-07 --numlayers 2 --code_size 392 --code_size2 196 --save_dir_for_CAE saved_weights/392_196_1e-07_1e-07.pth  & \n",
      "CUDA_VISIBLE_DEVICES=5 python main.py --train_CAEH True   --epochs 60 --lambd 1e-07 --gamma 1e-06 --numlayers 2 --code_size 392 --code_size2 196 --save_dir_for_CAE saved_weights/392_196_1e-07_1e-06.pth  & \n",
      "CUDA_VISIBLE_DEVICES=5 python main.py --train_CAEH True   --epochs 60 --lambd 1e-07 --gamma 1e-05 --numlayers 2 --code_size 392 --code_size2 196 --save_dir_for_CAE saved_weights/392_196_1e-07_1e-05.pth  & \n",
      "CUDA_VISIBLE_DEVICES=5 python main.py --train_CAEH True   --epochs 60 --lambd 1e-07 --gamma 0.0001 --numlayers 2 --code_size 392 --code_size2 196 --save_dir_for_CAE saved_weights/392_196_1e-07_0.0001.pth  & \n",
      "CUDA_VISIBLE_DEVICES=5 python main.py --train_CAEH True   --epochs 60 --lambd 1e-07 --gamma 0 --numlayers 2 --code_size 392 --code_size2 196 --save_dir_for_CAE saved_weights/392_196_1e-07_0.pth  & \n",
      "CUDA_VISIBLE_DEVICES=5 python main.py --train_CAEH True   --epochs 60 --lambd 1e-06 --gamma 1e-07 --numlayers 2 --code_size 392 --code_size2 196 --save_dir_for_CAE saved_weights/392_196_1e-06_1e-07.pth  & \n",
      "CUDA_VISIBLE_DEVICES=5 python main.py --train_CAEH True   --epochs 60 --lambd 1e-06 --gamma 1e-06 --numlayers 2 --code_size 392 --code_size2 196 --save_dir_for_CAE saved_weights/392_196_1e-06_1e-06.pth  & \n",
      "CUDA_VISIBLE_DEVICES=5 python main.py --train_CAEH True   --epochs 60 --lambd 1e-06 --gamma 1e-05 --numlayers 2 --code_size 392 --code_size2 196 --save_dir_for_CAE saved_weights/392_196_1e-06_1e-05.pth  & \n",
      "CUDA_VISIBLE_DEVICES=5 python main.py --train_CAEH True   --epochs 60 --lambd 1e-06 --gamma 0.0001 --numlayers 2 --code_size 392 --code_size2 196 --save_dir_for_CAE saved_weights/392_196_1e-06_0.0001.pth  & \n",
      "CUDA_VISIBLE_DEVICES=5 python main.py --train_CAEH True   --epochs 60 --lambd 1e-06 --gamma 0 --numlayers 2 --code_size 392 --code_size2 196 --save_dir_for_CAE saved_weights/392_196_1e-06_0.pth  & \n",
      "CUDA_VISIBLE_DEVICES=5 python main.py --train_CAEH True   --epochs 60 --lambd 1e-05 --gamma 1e-07 --numlayers 2 --code_size 392 --code_size2 196 --save_dir_for_CAE saved_weights/392_196_1e-05_1e-07.pth  & \n",
      "CUDA_VISIBLE_DEVICES=5 python main.py --train_CAEH True   --epochs 60 --lambd 1e-05 --gamma 1e-06 --numlayers 2 --code_size 392 --code_size2 196 --save_dir_for_CAE saved_weights/392_196_1e-05_1e-06.pth  & \n",
      "CUDA_VISIBLE_DEVICES=5 python main.py --train_CAEH True   --epochs 60 --lambd 1e-05 --gamma 1e-05 --numlayers 2 --code_size 392 --code_size2 196 --save_dir_for_CAE saved_weights/392_196_1e-05_1e-05.pth  & \n",
      "CUDA_VISIBLE_DEVICES=5 python main.py --train_CAEH True   --epochs 60 --lambd 1e-05 --gamma 0.0001 --numlayers 2 --code_size 392 --code_size2 196 --save_dir_for_CAE saved_weights/392_196_1e-05_0.0001.pth  & \n",
      "CUDA_VISIBLE_DEVICES=6 python main.py --train_CAEH True   --epochs 60 --lambd 1e-05 --gamma 0 --numlayers 2 --code_size 392 --code_size2 196 --save_dir_for_CAE saved_weights/392_196_1e-05_0.pth  & \n",
      "CUDA_VISIBLE_DEVICES=6 python main.py --train_CAEH True   --epochs 60 --lambd 0.0001 --gamma 1e-07 --numlayers 2 --code_size 392 --code_size2 196 --save_dir_for_CAE saved_weights/392_196_0.0001_1e-07.pth  & \n",
      "CUDA_VISIBLE_DEVICES=6 python main.py --train_CAEH True   --epochs 60 --lambd 0.0001 --gamma 1e-06 --numlayers 2 --code_size 392 --code_size2 196 --save_dir_for_CAE saved_weights/392_196_0.0001_1e-06.pth  & \n",
      "CUDA_VISIBLE_DEVICES=6 python main.py --train_CAEH True   --epochs 60 --lambd 0.0001 --gamma 1e-05 --numlayers 2 --code_size 392 --code_size2 196 --save_dir_for_CAE saved_weights/392_196_0.0001_1e-05.pth  & \n",
      "CUDA_VISIBLE_DEVICES=6 python main.py --train_CAEH True   --epochs 60 --lambd 0.0001 --gamma 0.0001 --numlayers 2 --code_size 392 --code_size2 196 --save_dir_for_CAE saved_weights/392_196_0.0001_0.0001.pth  & \n",
      "CUDA_VISIBLE_DEVICES=6 python main.py --train_CAEH True   --epochs 60 --lambd 0.0001 --gamma 0 --numlayers 2 --code_size 392 --code_size2 196 --save_dir_for_CAE saved_weights/392_196_0.0001_0.pth  & \n",
      "CUDA_VISIBLE_DEVICES=6 python main.py --train_CAEH True   --epochs 60 --lambd 0 --gamma 1e-07 --numlayers 2 --code_size 392 --code_size2 196 --save_dir_for_CAE saved_weights/392_196_0_1e-07.pth  & \n",
      "CUDA_VISIBLE_DEVICES=6 python main.py --train_CAEH True   --epochs 60 --lambd 0 --gamma 1e-06 --numlayers 2 --code_size 392 --code_size2 196 --save_dir_for_CAE saved_weights/392_196_0_1e-06.pth  & \n",
      "CUDA_VISIBLE_DEVICES=6 python main.py --train_CAEH True   --epochs 60 --lambd 0 --gamma 1e-05 --numlayers 2 --code_size 392 --code_size2 196 --save_dir_for_CAE saved_weights/392_196_0_1e-05.pth  & \n",
      "CUDA_VISIBLE_DEVICES=6 python main.py --train_CAEH True   --epochs 60 --lambd 0 --gamma 0.0001 --numlayers 2 --code_size 392 --code_size2 196 --save_dir_for_CAE saved_weights/392_196_0_0.0001.pth  & \n",
      "CUDA_VISIBLE_DEVICES=6 python main.py --train_CAEH True   --epochs 60 --lambd 0 --gamma 0 --numlayers 2 --code_size 392 --code_size2 196 --save_dir_for_CAE saved_weights/392_196_0_0.pth  & \n"
     ]
    },
    {
     "data": {
      "text/plain": [
       "26"
      ]
     },
     "execution_count": 15,
     "metadata": {},
     "output_type": "execute_result"
    }
   ],
   "source": [
    "\n",
    "\n",
    "command='CUDA_VISIBLE_DEVICES={0} python main.py --train_CAEH True   --epochs 60 --lambd {1} --gamma {2} --numlayers 2 --code_size {3} --code_size2 {4} --save_dir_for_CAE saved_weights/{3}_{4}_{1}_{2}.pth  '\n",
    "\n",
    "\n",
    "\n",
    "code_sizes=[392]\n",
    "code_sizes2=[196]\n",
    "\n",
    "lambds=[0.0000001, 0.000001, 0.00001, 0.0001, 0]\n",
    "gammas=[0.0000001, 0.000001, 0.00001, 0.0001, 0]\n",
    "\n",
    "\n",
    "per_gpu=15\n",
    "gpus=[5, 6]\n",
    "i=1\n",
    "for code_size in code_sizes:\n",
    "    for code_size2 in code_sizes2:\n",
    "        for lambd in lambds:\n",
    "            for gamma in gammas:\n",
    "                end=\"& \\n\"\n",
    "                if i%((per_gpu*len(gpus)))==0:\n",
    "                    end=' \\n \\n'\n",
    "\n",
    "                print(command.format(gpus[(i%(per_gpu*len(gpus)))//per_gpu], lambd, gamma, code_size, code_size2),end=end)\n",
    "                i += 1\n",
    "i"
   ]
  },
  {
   "cell_type": "code",
   "execution_count": 20,
   "metadata": {},
   "outputs": [
    {
     "name": "stdout",
     "output_type": "stream",
     "text": [
      "CUDA_VISIBLE_DEVICES=3 python main.py --pretrained_CAEH saved_weights/392_196_1e-07_1e-07.pth --MTC True  --lambd 1e-07 --gamma 1e-07 --numlayers 2 --code_size 392 --code_size2 196 & \n",
      "CUDA_VISIBLE_DEVICES=3 python main.py --pretrained_CAEH saved_weights/392_196_1e-07_1e-06.pth --MTC True  --lambd 1e-07 --gamma 1e-06 --numlayers 2 --code_size 392 --code_size2 196 & \n",
      "CUDA_VISIBLE_DEVICES=3 python main.py --pretrained_CAEH saved_weights/392_196_1e-07_1e-05.pth --MTC True  --lambd 1e-07 --gamma 1e-05 --numlayers 2 --code_size 392 --code_size2 196 & \n",
      "CUDA_VISIBLE_DEVICES=3 python main.py --pretrained_CAEH saved_weights/392_196_1e-07_0.0001.pth --MTC True  --lambd 1e-07 --gamma 0.0001 --numlayers 2 --code_size 392 --code_size2 196 & \n",
      "CUDA_VISIBLE_DEVICES=3 python main.py --pretrained_CAEH saved_weights/392_196_1e-07_0.pth --MTC True  --lambd 1e-07 --gamma 0 --numlayers 2 --code_size 392 --code_size2 196 & \n",
      "CUDA_VISIBLE_DEVICES=3 python main.py --pretrained_CAEH saved_weights/392_196_1e-06_1e-07.pth --MTC True  --lambd 1e-06 --gamma 1e-07 --numlayers 2 --code_size 392 --code_size2 196 & \n",
      "CUDA_VISIBLE_DEVICES=3 python main.py --pretrained_CAEH saved_weights/392_196_1e-06_1e-06.pth --MTC True  --lambd 1e-06 --gamma 1e-06 --numlayers 2 --code_size 392 --code_size2 196 & \n",
      "CUDA_VISIBLE_DEVICES=3 python main.py --pretrained_CAEH saved_weights/392_196_1e-06_1e-05.pth --MTC True  --lambd 1e-06 --gamma 1e-05 --numlayers 2 --code_size 392 --code_size2 196 & \n",
      "CUDA_VISIBLE_DEVICES=3 python main.py --pretrained_CAEH saved_weights/392_196_1e-06_0.0001.pth --MTC True  --lambd 1e-06 --gamma 0.0001 --numlayers 2 --code_size 392 --code_size2 196 & \n",
      "CUDA_VISIBLE_DEVICES=3 python main.py --pretrained_CAEH saved_weights/392_196_1e-06_0.pth --MTC True  --lambd 1e-06 --gamma 0 --numlayers 2 --code_size 392 --code_size2 196 & \n",
      "CUDA_VISIBLE_DEVICES=3 python main.py --pretrained_CAEH saved_weights/392_196_1e-05_1e-07.pth --MTC True  --lambd 1e-05 --gamma 1e-07 --numlayers 2 --code_size 392 --code_size2 196 & \n",
      "CUDA_VISIBLE_DEVICES=3 python main.py --pretrained_CAEH saved_weights/392_196_1e-05_1e-06.pth --MTC True  --lambd 1e-05 --gamma 1e-06 --numlayers 2 --code_size 392 --code_size2 196 & \n",
      "CUDA_VISIBLE_DEVICES=5 python main.py --pretrained_CAEH saved_weights/392_196_1e-05_1e-05.pth --MTC True  --lambd 1e-05 --gamma 1e-05 --numlayers 2 --code_size 392 --code_size2 196 & \n",
      "CUDA_VISIBLE_DEVICES=5 python main.py --pretrained_CAEH saved_weights/392_196_1e-05_0.0001.pth --MTC True  --lambd 1e-05 --gamma 0.0001 --numlayers 2 --code_size 392 --code_size2 196 & \n",
      "CUDA_VISIBLE_DEVICES=5 python main.py --pretrained_CAEH saved_weights/392_196_1e-05_0.pth --MTC True  --lambd 1e-05 --gamma 0 --numlayers 2 --code_size 392 --code_size2 196 & \n",
      "CUDA_VISIBLE_DEVICES=5 python main.py --pretrained_CAEH saved_weights/392_196_0.0001_1e-07.pth --MTC True  --lambd 0.0001 --gamma 1e-07 --numlayers 2 --code_size 392 --code_size2 196 & \n",
      "CUDA_VISIBLE_DEVICES=5 python main.py --pretrained_CAEH saved_weights/392_196_0.0001_1e-06.pth --MTC True  --lambd 0.0001 --gamma 1e-06 --numlayers 2 --code_size 392 --code_size2 196 & \n",
      "CUDA_VISIBLE_DEVICES=5 python main.py --pretrained_CAEH saved_weights/392_196_0.0001_1e-05.pth --MTC True  --lambd 0.0001 --gamma 1e-05 --numlayers 2 --code_size 392 --code_size2 196 & \n",
      "CUDA_VISIBLE_DEVICES=5 python main.py --pretrained_CAEH saved_weights/392_196_0.0001_0.0001.pth --MTC True  --lambd 0.0001 --gamma 0.0001 --numlayers 2 --code_size 392 --code_size2 196 & \n",
      "CUDA_VISIBLE_DEVICES=5 python main.py --pretrained_CAEH saved_weights/392_196_0.0001_0.pth --MTC True  --lambd 0.0001 --gamma 0 --numlayers 2 --code_size 392 --code_size2 196 & \n",
      "CUDA_VISIBLE_DEVICES=5 python main.py --pretrained_CAEH saved_weights/392_196_0_1e-07.pth --MTC True  --lambd 0 --gamma 1e-07 --numlayers 2 --code_size 392 --code_size2 196 & \n",
      "CUDA_VISIBLE_DEVICES=5 python main.py --pretrained_CAEH saved_weights/392_196_0_1e-06.pth --MTC True  --lambd 0 --gamma 1e-06 --numlayers 2 --code_size 392 --code_size2 196 & \n",
      "CUDA_VISIBLE_DEVICES=5 python main.py --pretrained_CAEH saved_weights/392_196_0_1e-05.pth --MTC True  --lambd 0 --gamma 1e-05 --numlayers 2 --code_size 392 --code_size2 196 & \n",
      "CUDA_VISIBLE_DEVICES=5 python main.py --pretrained_CAEH saved_weights/392_196_0_0.0001.pth --MTC True  --lambd 0 --gamma 0.0001 --numlayers 2 --code_size 392 --code_size2 196 & \n",
      "CUDA_VISIBLE_DEVICES=5 python main.py --pretrained_CAEH saved_weights/392_196_0_0.pth --MTC True  --lambd 0 --gamma 0 --numlayers 2 --code_size 392 --code_size2 196 & \n"
     ]
    },
    {
     "data": {
      "text/plain": [
       "26"
      ]
     },
     "execution_count": 20,
     "metadata": {},
     "output_type": "execute_result"
    }
   ],
   "source": [
    "\n",
    "\n",
    "command='CUDA_VISIBLE_DEVICES={0} python main.py --pretrained_CAEH saved_weights/{3}_{4}_{1}_{2}.pth --MTC True  --lambd {1} --gamma {2} --numlayers 2 --code_size {3} --code_size2 {4} '\n",
    "\n",
    "\n",
    "\n",
    "code_sizes=[392]\n",
    "code_sizes2=[196]\n",
    "\n",
    "lambds=[0.0000001, 0.000001, 0.00001, 0.0001, 0]\n",
    "gammas=[0.0000001, 0.000001, 0.00001, 0.0001, 0]\n",
    "\n",
    "\n",
    "per_gpu=13\n",
    "gpus=[3, 5, 7]\n",
    "i=1\n",
    "for code_size in code_sizes:\n",
    "    for code_size2 in code_sizes2:\n",
    "        for lambd in lambds:\n",
    "            for gamma in gammas:\n",
    "                end=\"& \\n\"\n",
    "                if i%((per_gpu*len(gpus)))==0:\n",
    "                    end=' \\n \\n'\n",
    "\n",
    "                print(command.format(gpus[(i%(per_gpu*len(gpus)))//per_gpu], lambd, gamma, code_size, code_size2),end=end)\n",
    "                i += 1\n",
    "i"
   ]
  },
  {
   "cell_type": "code",
   "execution_count": 26,
   "metadata": {},
   "outputs": [
    {
     "name": "stdout",
     "output_type": "stream",
     "text": [
      "CUDA_VISIBLE_DEVICES=5 python main.py --train_CAEH True   --epochs 80 --lambd 1e-07 --gamma 1e-07 --batch_size 50 --numlayers 2 --code_size 2000 --code_size2 2000 --save_dir_for_CAE saved_weights/2000_2000_1e-07_1e-07.pth  & \n"
     ]
    },
    {
     "data": {
      "text/plain": [
       "2"
      ]
     },
     "execution_count": 26,
     "metadata": {},
     "output_type": "execute_result"
    }
   ],
   "source": [
    "### 2000 2000\n",
    "\n",
    "\n",
    "command='CUDA_VISIBLE_DEVICES={0} python main.py --train_CAEH True   --epochs 80 --lambd {1} --gamma {2} --batch_size 50 --numlayers 2 --code_size {3} --code_size2 {4} --save_dir_for_CAE saved_weights/{3}_{4}_{1}_{2}.pth  '\n",
    "\n",
    "\n",
    "\n",
    "code_sizes=[2000]\n",
    "code_sizes2=[2000]\n",
    "\n",
    "lambds=[0.0000001]\n",
    "gammas=[0.0000001]\n",
    "\n",
    "\n",
    "per_gpu=15\n",
    "gpus=[5, 6]\n",
    "i=1\n",
    "for code_size in code_sizes:\n",
    "    for code_size2 in code_sizes2:\n",
    "        for lambd in lambds:\n",
    "            for gamma in gammas:\n",
    "                end=\"& \\n\"\n",
    "                if i%((per_gpu*len(gpus)))==0:\n",
    "                    end=' \\n \\n'\n",
    "\n",
    "                print(command.format(gpus[(i%(per_gpu*len(gpus)))//per_gpu], lambd, gamma, code_size, code_size2),end=end)\n",
    "                i += 1\n",
    "i"
   ]
  },
  {
   "cell_type": "code",
   "execution_count": null,
   "metadata": {},
   "outputs": [],
   "source": []
  }
 ],
 "metadata": {
  "kernelspec": {
   "display_name": "Python 3",
   "language": "python",
   "name": "python3"
  },
  "language_info": {
   "codemirror_mode": {
    "name": "ipython",
    "version": 3
   },
   "file_extension": ".py",
   "mimetype": "text/x-python",
   "name": "python",
   "nbconvert_exporter": "python",
   "pygments_lexer": "ipython3",
   "version": "3.8.5"
  }
 },
 "nbformat": 4,
 "nbformat_minor": 4
}
